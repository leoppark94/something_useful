{
 "cells": [
  {
   "cell_type": "markdown",
   "id": "5e70c15d-6688-49d6-82ed-2b56105fe3b8",
   "metadata": {},
   "source": [
    "## Discription\n",
    "\n",
    "Change LabelMe Polygon (.json) Data to\n",
    "LabelIMG (.xml) form\n",
    "\n",
    "### not for Segmentation only for objectDetection"
   ]
  },
  {
   "cell_type": "markdown",
   "id": "9472d8a6-a68c-4668-b60b-bdcc5b27c5b0",
   "metadata": {},
   "source": [
    "Sorry For the bad quality code~\n",
    "\n",
    "\n",
    "it's just make for my self"
   ]
  },
  {
   "cell_type": "code",
   "execution_count": 1,
   "id": "6d638b80-c2d0-40c2-b3c5-87e87b523db6",
   "metadata": {},
   "outputs": [],
   "source": [
    "from os.path import basename, dirname, split\n",
    "from glob import glob\n",
    "import cv2\n",
    "import json\n",
    "import numpy as np\n",
    "from tqdm.notebook import tqdm\n",
    "import os"
   ]
  },
  {
   "cell_type": "markdown",
   "id": "2ecfa53a-a3d9-4005-afc1-138be7e99f3e",
   "metadata": {},
   "source": [
    "### Set the Path"
   ]
  },
  {
   "cell_type": "code",
   "execution_count": 20,
   "id": "efa41164-b78f-4a7f-8d23-2b55518622a4",
   "metadata": {},
   "outputs": [],
   "source": [
    "# Test Save Path\n",
    "saved_Path = \"D:/Dataset/test\""
   ]
  },
  {
   "cell_type": "markdown",
   "id": "cf6ec53d-3d95-4e2a-9ac8-7fbaac0c622a",
   "metadata": {},
   "source": [
    "### Some fuctions"
   ]
  },
  {
   "cell_type": "code",
   "execution_count": 3,
   "id": "c8b20f8a-519c-4d58-8bdb-9e76e8ff32ba",
   "metadata": {},
   "outputs": [],
   "source": [
    "def json_reader(json_path):\n",
    "    '''\n",
    "    Read JSON\n",
    "    input Full Path\n",
    "    '''\n",
    "    with open(json_path, 'r') as f:\n",
    "        json_data = json.load(f)\n",
    "        f.close()\n",
    "    \n",
    "    return json_data"
   ]
  },
  {
   "cell_type": "code",
   "execution_count": 4,
   "id": "9c30243e-62b3-4d0c-a048-521d188dd138",
   "metadata": {},
   "outputs": [],
   "source": [
    "def lable_to_minmax_point(json_box):\n",
    "    \"\"\"\n",
    "    input : LabelME Point\n",
    "    change labelIMG polygon format to [xmin, ymin, xmax, ymax]\n",
    "    \n",
    "    return [xmin, ymin, xmax, ymax]\n",
    "    \"\"\"\n",
    "    box_arr = np.array(json_box['points']).T\n",
    "    xmin = int(np.min(box_arr[0]))\n",
    "    ymin = int(np.min(box_arr[1]))\n",
    "    xmax = int(np.max(box_arr[0]))\n",
    "    ymax = int(np.max(box_arr[1]))\n",
    "    \n",
    "    return [xmin, ymin, xmax, ymax]"
   ]
  },
  {
   "cell_type": "code",
   "execution_count": 5,
   "id": "bcf4ba95-5afb-4ff9-9cac-c89ec8513904",
   "metadata": {},
   "outputs": [],
   "source": [
    "def one_point_to_xml_form(label_class : str):\n",
    "    '''\n",
    "    input : lable name\n",
    "    output : one labelIMG templete point\n",
    "    '''\n",
    "    \n",
    "    for one_point in point_list:\n",
    "        if one_point['label'] == label_class:\n",
    "            one_df_list = list()\n",
    "            xmin, ymin, xmax, ymax = lable_to_minmax_point(one_point)\n",
    "            \n",
    "            result = (result +\n",
    "                      '\\t<object>\\n\\t\\t<name>check</name>\\n' +\n",
    "                      '\\t\\t<pose>Unspecified</pose>\\n' +\n",
    "                      '\\t\\t<truncated>0</truncated>\\n' +\n",
    "                      '\\t\\t<difficult>0</difficult>\\n' +\n",
    "                      '\\t\\t<bndbox>\\n\\t\\t\\t' + \n",
    "                      '<xmin>' + str(xmin) + '</xmin>\\n\\t\\t\\t' + \n",
    "                      '<ymin>' + str(ymin) + '</ymin>\\n\\t\\t\\t' +\n",
    "                      '<xmax>' + str(xmax) + '</xmax>\\n\\t\\t\\t' +\n",
    "                      '<ymax>' + str(ymax) + '</ymax>\\n\\t\\t' + \n",
    "                      '</bndbox>\\n\\t</object>\\n')\n",
    "    return result"
   ]
  },
  {
   "cell_type": "code",
   "execution_count": 6,
   "id": "586b07ca-ead7-40dd-a3dc-80988b95ec82",
   "metadata": {},
   "outputs": [],
   "source": [
    "def get_label_name(json_point_list):\n",
    "    # save lable name\n",
    "    label_name_list = list()\n",
    "    \n",
    "    for one_point in json_point_list:\n",
    "        label_name_list.append(one_point['label'])\n",
    "        \n",
    "    label_name_list = list(set(label_name_list))\n",
    "    \n",
    "    return label_name_list"
   ]
  },
  {
   "cell_type": "code",
   "execution_count": 22,
   "id": "2f8768cd-8b28-4c77-9cc1-4164e5e3b3a0",
   "metadata": {},
   "outputs": [],
   "source": [
    "def main(json_folder_path : str, img_ext : str, source : str = 'UnKnown', folder_name : str = 'labelme'):\n",
    "    '''\n",
    "    input\n",
    "    - json_folder_path : <str> LabelMe JSON label saved folder\n",
    "                         ex) \"D:/Dataset/221116_Kyobo/Labled_Money/\"\n",
    "    - img_ext : <str> like .png .jpg anything that can read in cv2.imread()\n",
    "    - source : <str> if you want to put source url or something in .xml\n",
    "    - folder_name : <str> I don't know what this is,,, but XML have it\n",
    "    '''\n",
    "    \n",
    "    # fix path\n",
    "    if json_folder_path[-1] != '/' or json_folder_path[-1] != '\\\\':\n",
    "        json_folder_path = json_folder_path + '/'\n",
    "    print(json_folder_path)\n",
    "    # json glob path\n",
    "    json_folder_path = json_folder_path + \"*.json\"\n",
    "    \n",
    "    print(json_folder_path)\n",
    "    \n",
    "    for one_json_path in tqdm(glob(json_folder_path)):\n",
    "        print(one_json_path)\n",
    "        name = basename(one_json_path).split('.')[0] + img_ext\n",
    "        folder_path = os.path.split(one_json_path)[0]\n",
    "        file_full_path = folder_path + '\\\\' + name\n",
    "        xml_name = basename(one_json_path).split('.')[0] + '.xml'\n",
    "        # get img shape\n",
    "        img = cv2.imread(file_full_path)\n",
    "        height, width, depth = img.shape\n",
    "        result = ('<annotation>\\n\\t<folder>' + \n",
    "                  folder_name + '</folder>\\n\\t<filename>' + \n",
    "                  name + '</filename>\\n\\t<path>'+ \n",
    "                  file_full_path +'</path>\\n\\t<source>\\n\\t\\t<database>' +\n",
    "                  source + '</database>\\n\\t</source>\\n\\t<size>\\n\\t\\t<width>' + \n",
    "                  str(width) + '</width>\\n\\t\\t<height>' + \n",
    "                  str(height) + '</height>\\n\\t\\t<depth>' + \n",
    "                  str(depth) + '</depth>\\n\\t</size>\\n\\t<segmented>0</segmented>\\n')\n",
    "\n",
    "        point_list = json_reader(one_json_path)['shapes']\n",
    "        label_class_list = get_label_name(point_list)\n",
    "        \n",
    "        # try to append relative classes\n",
    "        for one_class_name in label_class_list:\n",
    "            for one_point in point_list:\n",
    "                if one_point['label'] == one_class_name:\n",
    "                    xmin, ymin, xmax, ymax = lable_to_minmax_point(one_point)\n",
    "                    result = (result + '\\t<object>\\n\\t\\t<name>' +\n",
    "                              one_class_name + '</name>\\n\\t\\t<pose>Unspecified</pose>\\n\\t\\t<truncated>0</truncated>\\n' +\n",
    "                          '\\t\\t<difficult>0</difficult>\\n\\t\\t<bndbox>\\n\\t\\t\\t' + \n",
    "                          '<xmin>' + str(xmin) + '</xmin>\\n\\t\\t\\t' + \n",
    "                          '<ymin>' + str(ymin) + '</ymin>\\n\\t\\t\\t' +\n",
    "                          '<xmax>' + str(xmax) + '</xmax>\\n\\t\\t\\t' +\n",
    "                          '<ymax>' + str(ymax) + '</ymax>\\n\\t\\t' + \n",
    "                          '</bndbox>\\n\\t</object>\\n')\n",
    "\n",
    "        result = result + '</annotation>\\n'\n",
    "        result_f = open(folder_path + '\\\\' + xml_name,'w')\n",
    "        result_f.write(result)\n",
    "        result_f.close()"
   ]
  },
  {
   "cell_type": "code",
   "execution_count": 23,
   "id": "a6bc139e-9700-41ec-994b-9f2a3c0910fa",
   "metadata": {},
   "outputs": [
    {
     "name": "stdout",
     "output_type": "stream",
     "text": [
      "D:/Dataset/test/\n",
      "D:/Dataset/test/*.json\n"
     ]
    },
    {
     "data": {
      "application/vnd.jupyter.widget-view+json": {
       "model_id": "5b4b2bb4d7ae4f9dbdceb6b54f268671",
       "version_major": 2,
       "version_minor": 0
      },
      "text/plain": [
       "  0%|          | 0/3 [00:00<?, ?it/s]"
      ]
     },
     "metadata": {},
     "output_type": "display_data"
    },
    {
     "name": "stdout",
     "output_type": "stream",
     "text": [
      "D:/Dataset/test\\217010007006_2017011711535201.json\n",
      "D:/Dataset/test\\217010007006_2017011711535202.json\n",
      "D:/Dataset/test\\217010007046_201701061109160l.json\n"
     ]
    }
   ],
   "source": [
    "# Test\n",
    "main(saved_Path, '.png')"
   ]
  },
  {
   "cell_type": "code",
   "execution_count": null,
   "id": "b2bfa823-d790-4ad8-b3d0-0aa3c6e55ac6",
   "metadata": {},
   "outputs": [],
   "source": []
  }
 ],
 "metadata": {
  "kernelspec": {
   "display_name": "Python 3 (ipykernel)",
   "language": "python",
   "name": "python3"
  },
  "language_info": {
   "codemirror_mode": {
    "name": "ipython",
    "version": 3
   },
   "file_extension": ".py",
   "mimetype": "text/x-python",
   "name": "python",
   "nbconvert_exporter": "python",
   "pygments_lexer": "ipython3",
   "version": "3.10.6"
  }
 },
 "nbformat": 4,
 "nbformat_minor": 5
}
